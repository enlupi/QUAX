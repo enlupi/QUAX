{
 "cells": [
  {
   "cell_type": "markdown",
   "id": "c3e003e1",
   "metadata": {},
   "source": [
    "# Fits"
   ]
  },
  {
   "cell_type": "code",
   "execution_count": 1,
   "id": "6d8d1a65",
   "metadata": {},
   "outputs": [],
   "source": [
    "import numpy as np\n",
    "from lmfit import Model, minimize, Parameters, report_fit\n",
    "\n",
    "import nbimporter\n",
    "import prepData as prep\n",
    "\n",
    "import matplotlib.pyplot as plt\n",
    "from matplotlib.gridspec import GridSpec\n",
    "from scipy.stats import norm\n",
    "\n",
    "from symfit import variables, parameters, Fit\n",
    "import symfit as sm"
   ]
  },
  {
   "cell_type": "markdown",
   "id": "fd71f43b",
   "metadata": {},
   "source": [
    "## Functions\n",
    "- For the background, the following parametric function will be used\n",
    "$$exp \\left( 2 \\cdot \\frac{|x - a+ib|^2}{|x - c+id|^2} + f \\cdot (x - c) \\right)$$\n",
    "- For the signal, we will use either the Gaussian function\n",
    "$$\\mu \\cdot exp \\left( -\\frac{1}{2} \\frac{(x - x_0)^2}{\\sigma^2} \\right)$$\n",
    "or a Maxwell-Boltzmann distribution\n",
    "$$\\mu \\cdot \\frac{x^2}{\\sigma^3} \\cdot exp \\left( -\\frac{1}{2} \\frac{(x - x_0)^2}{\\sigma^2} \\right)$$\n",
    "depending on the theoretical model we assume.\n",
    "\n",
    "The total shape will be given by the sum of the two functions."
   ]
  },
  {
   "cell_type": "code",
   "execution_count": 2,
   "id": "6c646157",
   "metadata": {},
   "outputs": [],
   "source": [
    "def bkg(x, a, b, c, d, e, f):                                                   \n",
    "    return e**2*abs(x-a+1j*b)**2/abs(x-c+1j*d)**2+f*(x-c)\n",
    "\n",
    "def gaussian(x, x0, s, mu):\n",
    "    return mu * np.exp(-.5*((x-x0)/s)**2)\n",
    "    \n",
    "def maxwell(x, x0, s, mu):\n",
    "    return mu * x**2/s**3 * np.exp(-.5*((x-x0)/s)**2)\n",
    "    \n",
    "    \n",
    "def signal_gauss(x, a, b, c, d, e, f,\n",
    "                    x0, s, mu):\n",
    "    return bkg(x,a,b,c,d,e,f) + gaussian(x,x0,s,mu)\n",
    "    \n",
    "def signal_maxwell(x, a, b, c, d, e, f,\n",
    "                      x0, s, mu):\n",
    "    return bkg(x,a,b,c,d,e,f) + maxwell(x,x0,s,mu)"
   ]
  },
  {
   "cell_type": "markdown",
   "id": "73cbe9b3",
   "metadata": {},
   "source": [
    "## Background\n",
    "\n",
    "Parameters $a$ and $c$ need to be initialized to the cavity frequency."
   ]
  },
  {
   "cell_type": "code",
   "execution_count": 3,
   "id": "6a6ceb8f",
   "metadata": {},
   "outputs": [],
   "source": [
    "def fit_bkg(x, y, w, center, ref):\n",
    "    # set fit model\n",
    "    bkg_model = Model(bkg)\n",
    "    ps = bkg_model.make_params(a={'value':center, 'min':center*0.999, 'max':center*1.01},\n",
    "                               b=2e4,\n",
    "                               c={'value':center, 'min':center*0.999, 'max':center*1.01},\n",
    "                               d=2.2e4,\n",
    "                               e=1e-2*np.sqrt(ref),\n",
    "                               f=1e-12*ref)\n",
    "    # execute fit\n",
    "    result = bkg_model.fit(y, x=x, params=ps, weights=1/w)\n",
    "    \n",
    "    return result"
   ]
  },
  {
   "cell_type": "markdown",
   "id": "03c21ccb",
   "metadata": {},
   "source": [
    "## Signal + Background\n",
    "\n",
    "Background parameters will be initialized with the results of a previous fit, and will remain constant to facilitate convergence of the signal part. The $\\sigma$ is set constant to 16 bins (default to 10.416 kHz), while the $x_0$ will be made to vary over the whole range of probed frequencies."
   ]
  },
  {
   "cell_type": "code",
   "execution_count": 4,
   "id": "3ca5e1ff",
   "metadata": {},
   "outputs": [],
   "source": [
    "def fit_sig(x, y, w, x_0, init_params, signal, mu_init=1, mu_vary=True, par_vary=False):\n",
    "    \n",
    "    # set fit model\n",
    "    sig_model = Model(signal)\n",
    "    ps = sig_model.make_params(a ={'value':init_params['a'], 'vary':par_vary},\n",
    "                               b ={'value':init_params['b'], 'vary':par_vary},\n",
    "                               c ={'value':init_params['c'], 'vary':par_vary},\n",
    "                               d ={'value':init_params['d'], 'vary':par_vary},\n",
    "                               e ={'value':init_params['e'], 'vary':par_vary},\n",
    "                               f ={'value':init_params['f'], 'vary':par_vary},\n",
    "                               mu={'value':mu_init, 'min':0, 'vary':mu_vary},\n",
    "                               x0={'value':x_0, 'vary':False},\n",
    "                               s ={'value':16*651, 'vary':False}) # fixed value to 16 bins\n",
    "\n",
    "    result = sig_model.fit(y, x=x, params=ps, weights=1/w)\n",
    "    \n",
    "    return result"
   ]
  },
  {
   "cell_type": "markdown",
   "id": "8c97cebb",
   "metadata": {},
   "source": [
    "## Plot Results\n",
    "\n",
    "The following plots will be shown:\n",
    "- Power vs. frequency, including the best fit function\n",
    "- Residuals vs. frequency\n",
    "- Distribution of normalized residual  $\\frac{y_{fit} - y}{\\sigma}$; ideally, it should be a Gaussian with $\\mu = 0$ and $\\sigma = 1$\n",
    "- Residual vs. frequency, highlighting the $\\pm \\sigma$ belt"
   ]
  },
  {
   "cell_type": "code",
   "execution_count": 5,
   "id": "2d7e49af",
   "metadata": {},
   "outputs": [],
   "source": [
    "def plot_fit(x, y, w, fit_result):\n",
    "    # prepare canvas\n",
    "    fig = plt.figure(figsize=(15,10))\n",
    "    gs  = GridSpec(2, 2)\n",
    "    ax  = fig.add_subplot(gs[0,:])\n",
    "    ax1 = fig.add_subplot(gs[1,0])\n",
    "    ax2 = fig.add_subplot(gs[1,1])\n",
    "    \n",
    "    # plot data and best fit\n",
    "    ax.plot(x, y, 'o', label='data')\n",
    "    ax.plot(x, fit_result.best_fit, color='red', label='fit')\n",
    "    \n",
    "    fmin, fmax = min(x), max(x)\n",
    "    ax.set_xlim([fmin,fmax])\n",
    "    ax.legend()\n",
    "    ax.set_xlabel('Frequence [Hz]')\n",
    "    ax.set_ylabel('FFT')\n",
    "    \n",
    "    #residuals w.r.t. freq\n",
    "    fit_result.plot_residuals(ax=ax1)\n",
    "    \n",
    "    \n",
    "    # plot histogrm of residuals (with the fit)\n",
    "    rangeMax = int(np.max(fit_result.residual))+1\n",
    "    \n",
    "    ax2.hist(fit_result.residual, bins=15, density=True, range=(-rangeMax,rangeMax))\n",
    "    \n",
    "    \n",
    "    fit_res = norm.fit(fit_result.residual, loc=0, scale=1)\n",
    "    ax2.plot(np.linspace(-rangeMax, rangeMax, 100),\n",
    "             norm.pdf(np.linspace(-rangeMax, rangeMax, 100), fit_res[0], fit_res[1]), color=\"red\")\n",
    "    ax2.axvline(fit_res[0], color='black', linestyle='dashed', linewidth=1)\n",
    "    \n",
    "    summary_text = \"mean: {}\\n std: {}\".format(np.round(fit_res[0],3), np.round(fit_res[1], 3))\n",
    "    ax2.text(0.9, 0.9, summary_text, transform=fig.gca().transAxes, ha='right', va='top')\n",
    "    ax2.set_xlabel('Residuals')\n",
    "\n",
    "\n",
    "    # plot of residuals vs. freq and error band\n",
    "    fig3, ax3 = plt.subplots(1, 1, figsize=(18,5))\n",
    "    \n",
    "    ax3.scatter(x, fit_result.residual*w, label=\"residuals\")\n",
    "    ax3.plot(x,  w, label=\"+$\\sigma$\")\n",
    "    ax3.plot(x, -w, label=\"-$\\sigma$\")\n",
    "    ax3.set_xlim([fmin,fmax])\n",
    "    ax3.set_xlabel('Frequence [Hz]')\n",
    "    ax3.set_ylabel('Residual')\n",
    "    ax3.legend()\n",
    "    \n",
    "    plt.show()\n",
    "    return fit_result"
   ]
  },
  {
   "cell_type": "markdown",
   "id": "91d6257d",
   "metadata": {},
   "source": [
    "## Fit Multiple Runs Simultaneously"
   ]
  },
  {
   "cell_type": "code",
   "execution_count": 6,
   "id": "491efee8",
   "metadata": {},
   "outputs": [],
   "source": [
    "def multipleFitBKG(InfoDataset):\n",
    "    \n",
    "    fitResult = []\n",
    "    # save fit results in dictionary\n",
    "    for run in InfoDataset:\n",
    "        # fit background for each individual run separately \n",
    "        bkg_result = fit_bkg(run[\"freq\"], run[\"fft\"],\n",
    "                             run[\"weights\"], run[\"center\"], run[\"ref\"])\n",
    "            \n",
    "        results = {\"run\":run[\"name\"],\n",
    "                   \"background_bestParams\":bkg_result.params.valuesdict(),\n",
    "                   \"background_bestfit\"   :bkg_result.best_fit,\n",
    "                   \"background_residuals\" :bkg_result.residual}\n",
    "            \n",
    "        fitResult.append(results)\n",
    "    \n",
    "    return(fitResult)"
   ]
  },
  {
   "cell_type": "code",
   "execution_count": 61,
   "id": "4645b075",
   "metadata": {},
   "outputs": [],
   "source": [
    "def signal_dataset(params, i, x):\n",
    "    \"\"\"calc sig+bkg from params for data set i\n",
    "    using simple, hardwired naming convention\"\"\"\n",
    "    a  = params[\"a_%i\"  % (i+1)].value\n",
    "    b  = params[\"b_%i\"  % (i+1)].value\n",
    "    c  = params[\"c_%i\"  % (i+1)].value\n",
    "    d  = params[\"d_%i\"  % (i+1)].value\n",
    "    e  = params[\"e_%i\"  % (i+1)].value\n",
    "    f  = params[\"f_%i\"  % (i+1)].value\n",
    "    mu = params[\"mu_%i\" % (i+1)].value\n",
    "    x0 = params[\"x0_%i\" % (i+1)].value\n",
    "    s  = params[\"s_%i\"  % (i+1)].value\n",
    "    return signal_gauss(x, a, b, c, d, e, f, x0, s, mu)\n",
    "\n",
    "\n",
    "def objective(params, x, data):\n",
    "    \"\"\" calculate total residual for fits to several data sets held\n",
    "    in a 2-D array, and modeled by Gaussian functions\"\"\"\n",
    "    ndata, _ = data.shape\n",
    "    resid = 0.0*data[:]\n",
    "\n",
    "    # make residual per data set\n",
    "    for i in range(ndata):\n",
    "        resid[i, :] = data[i, :] - signal_dataset(params, i, x[i, :])\n",
    "\n",
    "    # now flatten this to a 1D array, as minimize() needs\n",
    "    return resid.flatten()\n",
    "\n",
    "\n",
    "def multipleFitSIG(InfoDataset, fitBkg, x_0, sigma=16*651, mu_init=1, mu_vary=True, par_vary=False):\n",
    "    # create sets of parameters, one per data set\n",
    "    fit_params = Parameters()\n",
    "    # create 2-D arrays of freq and fft for objective function\n",
    "    x    = np.zeros(shape=(len(InfoDataset), len(InfoDataset[0][\"freq\"])))\n",
    "    data = np.zeros(shape=(len(InfoDataset), len(InfoDataset[0][\"fft\"])))\n",
    "    \n",
    "    for i in range(len(InfoDataset)):\n",
    "        fit_params.add( \"a_%i\"  % (i+1), value=fitBkg[i][\"background_bestParams\"][\"a\"], vary=par_vary)\n",
    "        fit_params.add( \"b_%i\"  % (i+1), value=fitBkg[i][\"background_bestParams\"][\"b\"], vary=par_vary)\n",
    "        fit_params.add( \"c_%i\"  % (i+1), value=fitBkg[i][\"background_bestParams\"][\"c\"], vary=par_vary)\n",
    "        fit_params.add( \"d_%i\"  % (i+1), value=fitBkg[i][\"background_bestParams\"][\"d\"], vary=par_vary)\n",
    "        fit_params.add( \"e_%i\"  % (i+1), value=fitBkg[i][\"background_bestParams\"][\"e\"], vary=par_vary)\n",
    "        fit_params.add( \"f_%i\"  % (i+1), value=fitBkg[i][\"background_bestParams\"][\"f\"], vary=par_vary)\n",
    "        fit_params.add( \"mu_%i\" % (i+1), value=mu_init, min=0, vary=mu_vary)\n",
    "        fit_params.add( \"x0_%i\" % (i+1), value=x_0, vary=False)\n",
    "        fit_params.add( \"s_%i\"  % (i+1), value=sigma, vary=False)\n",
    "        \n",
    "        x[i]    = InfoDataset[i][\"freq\"]\n",
    "        data[i] = InfoDataset[i][\"fft\"]\n",
    "\n",
    "    # Now constrain all values of mu to have the same value\n",
    "    for i in range(2, len(InfoDataset)):\n",
    "        fit_params[\"mu_%i\" % i].expr=\"mu_1\"\n",
    "\n",
    "    # run the global fit to all the data sets\n",
    "    result = minimize(objective, fit_params, args=(x, data), method=\"emcee3\")\n",
    "    \n",
    "    fitResult = []\n",
    "    # save fit results in dictionary\n",
    "    for run in InfoDataset:\n",
    "        results = {\"run\":run[\"name\"],\n",
    "                   \"signal_bestParams\":bkg_result.params.valuesdict(),\n",
    "                   \"background_bestfit\"   :bkg_result.best_fit,\n",
    "                   \"background_residuals\" :bkg_result.residual}\n",
    "            \n",
    "        fitResult.append(results)\n",
    "    \n",
    "    return(fitResult)\n",
    "    report_fit(result)"
   ]
  },
  {
   "cell_type": "code",
   "execution_count": null,
   "id": "70511be1",
   "metadata": {},
   "outputs": [],
   "source": []
  },
  {
   "cell_type": "code",
   "execution_count": 33,
   "id": "4bdbbf81",
   "metadata": {},
   "outputs": [],
   "source": [
    "InfoDataset = prep.Load()"
   ]
  },
  {
   "cell_type": "code",
   "execution_count": 35,
   "id": "a8ab9eea",
   "metadata": {},
   "outputs": [],
   "source": [
    "fitBkg = multipleFitBKG(InfoDataset)"
   ]
  },
  {
   "cell_type": "code",
   "execution_count": 36,
   "id": "3449c68c",
   "metadata": {},
   "outputs": [],
   "source": [
    "mu_init=1\n",
    "x_0=10353357599.0\n",
    "sigma=16*651\n",
    "par_vary=False\n",
    "mu_vary=True\n",
    "# create sets of parameters, one per data set\n",
    "fit_params = Parameters()\n",
    "# create 2-D arrays of freq and fft for objective function\n",
    "x    = np.zeros(shape=(len(InfoDataset), len(InfoDataset[0][\"freq\"])))\n",
    "data = np.zeros(shape=(len(InfoDataset), len(InfoDataset[0][\"fft\"])))\n",
    "   \n",
    "for i in range(len(InfoDataset)):\n",
    "    fit_params.add( \"a_%i\"  % (i+1), value=fitBkg[i][\"background_bestParams\"][\"a\"], vary=par_vary)\n",
    "    fit_params.add( \"b_%i\"  % (i+1), value=fitBkg[i][\"background_bestParams\"][\"b\"], vary=par_vary)\n",
    "    fit_params.add( \"c_%i\"  % (i+1), value=fitBkg[i][\"background_bestParams\"][\"c\"], vary=par_vary)\n",
    "    fit_params.add( \"d_%i\"  % (i+1), value=fitBkg[i][\"background_bestParams\"][\"d\"], vary=par_vary)\n",
    "    fit_params.add( \"e_%i\"  % (i+1), value=fitBkg[i][\"background_bestParams\"][\"e\"], vary=par_vary)\n",
    "    fit_params.add( \"f_%i\"  % (i+1), value=fitBkg[i][\"background_bestParams\"][\"f\"], vary=par_vary)\n",
    "    fit_params.add( \"mu_%i\" % (i+1), value=mu_init, min=0, vary=mu_vary)\n",
    "    fit_params.add( \"x0_%i\" % (i+1), value=x_0, vary=False)\n",
    "    fit_params.add( \"s_%i\"  % (i+1), value=sigma, vary=False)\n",
    "        \n",
    "    x[i]    = InfoDataset[i][\"freq\"]\n",
    "    data[i] = InfoDataset[i][\"fft\"]"
   ]
  },
  {
   "cell_type": "code",
   "execution_count": 40,
   "id": "0c465b77",
   "metadata": {},
   "outputs": [],
   "source": [
    "for i in range(2, len(runsData)):\n",
    "        fit_params[\"mu_%i\" % i].expr=\"mu_1\""
   ]
  },
  {
   "cell_type": "code",
   "execution_count": 54,
   "id": "fbc3c4b7",
   "metadata": {},
   "outputs": [],
   "source": [
    "res = objective(fit_params, x, data)"
   ]
  },
  {
   "cell_type": "code",
   "execution_count": 45,
   "id": "5c4a8336",
   "metadata": {},
   "outputs": [
    {
     "name": "stdout",
     "output_type": "stream",
     "text": [
      "13 (13, 200)\n"
     ]
    }
   ],
   "source": [
    "ndata, _ = data.shape\n",
    "resid = 0.0*data[:]\n",
    "\n",
    "print(ndata, resid.shape)"
   ]
  },
  {
   "cell_type": "code",
   "execution_count": 47,
   "id": "70fea733",
   "metadata": {},
   "outputs": [
    {
     "data": {
      "text/plain": [
       "(200,)"
      ]
     },
     "execution_count": 47,
     "metadata": {},
     "output_type": "execute_result"
    }
   ],
   "source": [
    "resid[i,:].shape"
   ]
  },
  {
   "cell_type": "code",
   "execution_count": 51,
   "id": "44596d3c",
   "metadata": {},
   "outputs": [
    {
     "data": {
      "text/plain": [
       "(13, 200)"
      ]
     },
     "execution_count": 51,
     "metadata": {},
     "output_type": "execute_result"
    }
   ],
   "source": [
    "a = signal_dataset(fit_params, i, x)\n",
    "a.shape"
   ]
  },
  {
   "cell_type": "code",
   "execution_count": 48,
   "id": "24dd79e5",
   "metadata": {},
   "outputs": [
    {
     "ename": "NameError",
     "evalue": "name 'params' is not defined",
     "output_type": "error",
     "traceback": [
      "\u001b[1;31m---------------------------------------------------------------------------\u001b[0m",
      "\u001b[1;31mNameError\u001b[0m                                 Traceback (most recent call last)",
      "Cell \u001b[1;32mIn[48], line 3\u001b[0m\n\u001b[0;32m      1\u001b[0m \u001b[38;5;66;03m# make residual per data set\u001b[39;00m\n\u001b[0;32m      2\u001b[0m \u001b[38;5;28;01mfor\u001b[39;00m i \u001b[38;5;129;01min\u001b[39;00m \u001b[38;5;28mrange\u001b[39m(ndata):\n\u001b[1;32m----> 3\u001b[0m     resid[i, :] \u001b[38;5;241m=\u001b[39m data[i, :] \u001b[38;5;241m-\u001b[39m signal_dataset(\u001b[43mparams\u001b[49m, i, x)\n\u001b[0;32m      5\u001b[0m \u001b[38;5;66;03m# now flatten this to a 1D array, as minimize() needs\u001b[39;00m\n\u001b[0;32m      6\u001b[0m \u001b[38;5;28;01mreturn\u001b[39;00m resid\u001b[38;5;241m.\u001b[39mflatten()\n",
      "\u001b[1;31mNameError\u001b[0m: name 'params' is not defined"
     ]
    }
   ],
   "source": [
    "# make residual per data set\n",
    "for i in range(ndata):\n",
    "    resid[i, :] = data[i, :] - signal_dataset(params, i, x)\n",
    "\n",
    "# now flatten this to a 1D array, as minimize() needs\n",
    "return resid.flatten()"
   ]
  },
  {
   "cell_type": "code",
   "execution_count": null,
   "id": "5bb662f3",
   "metadata": {},
   "outputs": [],
   "source": []
  },
  {
   "cell_type": "code",
   "execution_count": null,
   "id": "df632c78",
   "metadata": {},
   "outputs": [],
   "source": []
  },
  {
   "cell_type": "code",
   "execution_count": null,
   "id": "61f79ff4",
   "metadata": {},
   "outputs": [],
   "source": []
  },
  {
   "cell_type": "code",
   "execution_count": 57,
   "id": "2b417b04",
   "metadata": {},
   "outputs": [],
   "source": [
    "result = minimize(objective, fit_params, args=(x, data))"
   ]
  },
  {
   "cell_type": "code",
   "execution_count": 66,
   "id": "1a859b4c",
   "metadata": {},
   "outputs": [
    {
     "data": {
      "text/html": [
       "<table><tr><th> name </th><th> value </th><th> standard error </th><th> relative error </th><th> initial value </th><th> min </th><th> max </th><th> vary </th><th> expression </th></tr><tr><td> a_1 </td><td>  1.0354e+10 </td><td>  0.00000000 </td><td> (0.00%) </td><td> 10353522219.620491 </td><td>        -inf </td><td>         inf </td><td> False </td><td>  </td></tr><tr><td> b_1 </td><td>  20852.9578 </td><td>  0.00000000 </td><td> (0.00%) </td><td> 20852.957817490726 </td><td>        -inf </td><td>         inf </td><td> False </td><td>  </td></tr><tr><td> c_1 </td><td>  1.0354e+10 </td><td>  0.00000000 </td><td> (0.00%) </td><td> 10353522435.553326 </td><td>        -inf </td><td>         inf </td><td> False </td><td>  </td></tr><tr><td> d_1 </td><td>  21974.3249 </td><td>  0.00000000 </td><td> (0.00%) </td><td> 21974.32490149998 </td><td>        -inf </td><td>         inf </td><td> False </td><td>  </td></tr><tr><td> e_1 </td><td>  186.997387 </td><td>  0.00000000 </td><td> (0.00%) </td><td> 186.9973868189828 </td><td>        -inf </td><td>         inf </td><td> False </td><td>  </td></tr><tr><td> f_1 </td><td> -0.00589733 </td><td>  0.00000000 </td><td> (0.00%) </td><td> -0.00589732628477138 </td><td>        -inf </td><td>         inf </td><td> False </td><td>  </td></tr><tr><td> mu_1 </td><td>  2.6099e-06 </td><td>  1.92556005 </td><td> (73778666.35%) </td><td> 1 </td><td>  0.00000000 </td><td>         inf </td><td> True </td><td>  </td></tr><tr><td> x0_1 </td><td>  1.0353e+10 </td><td>  0.00000000 </td><td> (0.00%) </td><td> 10353357599.0 </td><td>        -inf </td><td>         inf </td><td> False </td><td>  </td></tr><tr><td> s_1 </td><td>  10416.0000 </td><td>  0.00000000 </td><td> (0.00%) </td><td> 10416 </td><td>        -inf </td><td>         inf </td><td> False </td><td>  </td></tr><tr><td> a_2 </td><td>  1.0353e+10 </td><td>  0.00000000 </td><td> (0.00%) </td><td> 10353494009.054926 </td><td>        -inf </td><td>         inf </td><td> False </td><td>  </td></tr><tr><td> b_2 </td><td>  20739.9029 </td><td>  0.00000000 </td><td> (0.00%) </td><td> 20739.902858312696 </td><td>        -inf </td><td>         inf </td><td> False </td><td>  </td></tr><tr><td> c_2 </td><td>  1.0353e+10 </td><td>  0.00000000 </td><td> (0.00%) </td><td> 10353494174.57104 </td><td>        -inf </td><td>         inf </td><td> False </td><td>  </td></tr><tr><td> d_2 </td><td>  21931.9347 </td><td>  0.00000000 </td><td> (0.00%) </td><td> 21931.934710792502 </td><td>        -inf </td><td>         inf </td><td> False </td><td>  </td></tr><tr><td> e_2 </td><td>  187.630931 </td><td>  0.00000000 </td><td> (0.00%) </td><td> 187.63093082793742 </td><td>        -inf </td><td>         inf </td><td> False </td><td>  </td></tr><tr><td> f_2 </td><td> -0.00621592 </td><td>  0.00000000 </td><td> (0.00%) </td><td> -0.0062159187551241064 </td><td>        -inf </td><td>         inf </td><td> False </td><td>  </td></tr><tr><td> mu_2 </td><td>  2.6099e-06 </td><td>  1.92556005 </td><td> (73778666.53%) </td><td> 1 </td><td>  0.00000000 </td><td>         inf </td><td> False </td><td> mu_1 </td></tr><tr><td> x0_2 </td><td>  1.0353e+10 </td><td>  0.00000000 </td><td> (0.00%) </td><td> 10353357599.0 </td><td>        -inf </td><td>         inf </td><td> False </td><td>  </td></tr><tr><td> s_2 </td><td>  10416.0000 </td><td>  0.00000000 </td><td> (0.00%) </td><td> 10416 </td><td>        -inf </td><td>         inf </td><td> False </td><td>  </td></tr><tr><td> a_3 </td><td>  1.0353e+10 </td><td>  0.00000000 </td><td> (0.00%) </td><td> 10353468834.022043 </td><td>        -inf </td><td>         inf </td><td> False </td><td>  </td></tr><tr><td> b_3 </td><td>  20303.7907 </td><td>  0.00000000 </td><td> (0.00%) </td><td> 20303.7907299555 </td><td>        -inf </td><td>         inf </td><td> False </td><td>  </td></tr><tr><td> c_3 </td><td>  1.0353e+10 </td><td>  0.00000000 </td><td> (0.00%) </td><td> 10353469027.134993 </td><td>        -inf </td><td>         inf </td><td> False </td><td>  </td></tr><tr><td> d_3 </td><td>  21479.3487 </td><td>  0.00000000 </td><td> (0.00%) </td><td> 21479.34874744297 </td><td>        -inf </td><td>         inf </td><td> False </td><td>  </td></tr><tr><td> e_3 </td><td>  187.805299 </td><td>  0.00000000 </td><td> (0.00%) </td><td> 187.80529884313725 </td><td>        -inf </td><td>         inf </td><td> False </td><td>  </td></tr><tr><td> f_3 </td><td> -0.00612174 </td><td>  0.00000000 </td><td> (0.00%) </td><td> -0.006121735627566208 </td><td>        -inf </td><td>         inf </td><td> False </td><td>  </td></tr><tr><td> mu_3 </td><td>  2.6099e-06 </td><td>  1.92556005 </td><td> (73778666.53%) </td><td> 1 </td><td>  0.00000000 </td><td>         inf </td><td> False </td><td> mu_1 </td></tr><tr><td> x0_3 </td><td>  1.0353e+10 </td><td>  0.00000000 </td><td> (0.00%) </td><td> 10353357599.0 </td><td>        -inf </td><td>         inf </td><td> False </td><td>  </td></tr><tr><td> s_3 </td><td>  10416.0000 </td><td>  0.00000000 </td><td> (0.00%) </td><td> 10416 </td><td>        -inf </td><td>         inf </td><td> False </td><td>  </td></tr><tr><td> a_4 </td><td>  1.0353e+10 </td><td>  0.00000000 </td><td> (0.00%) </td><td> 10353468529.830406 </td><td>        -inf </td><td>         inf </td><td> False </td><td>  </td></tr><tr><td> b_4 </td><td>  20201.1512 </td><td>  0.00000000 </td><td> (0.00%) </td><td> 20201.151211832264 </td><td>        -inf </td><td>         inf </td><td> False </td><td>  </td></tr><tr><td> c_4 </td><td>  1.0353e+10 </td><td>  0.00000000 </td><td> (0.00%) </td><td> 10353468640.75483 </td><td>        -inf </td><td>         inf </td><td> False </td><td>  </td></tr><tr><td> d_4 </td><td>  21402.4074 </td><td>  0.00000000 </td><td> (0.00%) </td><td> 21402.407428181454 </td><td>        -inf </td><td>         inf </td><td> False </td><td>  </td></tr><tr><td> e_4 </td><td>  187.955819 </td><td>  0.00000000 </td><td> (0.00%) </td><td> 187.95581858309106 </td><td>        -inf </td><td>         inf </td><td> False </td><td>  </td></tr><tr><td> f_4 </td><td> -0.00647441 </td><td>  0.00000000 </td><td> (0.00%) </td><td> -0.006474411007767744 </td><td>        -inf </td><td>         inf </td><td> False </td><td>  </td></tr><tr><td> mu_4 </td><td>  2.6099e-06 </td><td>  1.92556005 </td><td> (73778666.53%) </td><td> 1 </td><td>  0.00000000 </td><td>         inf </td><td> False </td><td> mu_1 </td></tr><tr><td> x0_4 </td><td>  1.0353e+10 </td><td>  0.00000000 </td><td> (0.00%) </td><td> 10353357599.0 </td><td>        -inf </td><td>         inf </td><td> False </td><td>  </td></tr><tr><td> s_4 </td><td>  10416.0000 </td><td>  0.00000000 </td><td> (0.00%) </td><td> 10416 </td><td>        -inf </td><td>         inf </td><td> False </td><td>  </td></tr><tr><td> a_5 </td><td>  1.0353e+10 </td><td>  0.00000000 </td><td> (0.00%) </td><td> 10353439447.539661 </td><td>        -inf </td><td>         inf </td><td> False </td><td>  </td></tr><tr><td> b_5 </td><td>  19620.9450 </td><td>  0.00000000 </td><td> (0.00%) </td><td> 19620.945031193758 </td><td>        -inf </td><td>         inf </td><td> False </td><td>  </td></tr><tr><td> c_5 </td><td>  1.0353e+10 </td><td>  0.00000000 </td><td> (0.00%) </td><td> 10353439551.428143 </td><td>        -inf </td><td>         inf </td><td> False </td><td>  </td></tr><tr><td> d_5 </td><td>  20709.5189 </td><td>  0.00000000 </td><td> (0.00%) </td><td> 20709.518937189427 </td><td>        -inf </td><td>         inf </td><td> False </td><td>  </td></tr><tr><td> e_5 </td><td>  187.213886 </td><td>  0.00000000 </td><td> (0.00%) </td><td> 187.21388616673337 </td><td>        -inf </td><td>         inf </td><td> False </td><td>  </td></tr><tr><td> f_5 </td><td> -0.00652901 </td><td>  0.00000000 </td><td> (0.00%) </td><td> -0.006529007082586741 </td><td>        -inf </td><td>         inf </td><td> False </td><td>  </td></tr><tr><td> mu_5 </td><td>  2.6099e-06 </td><td>  1.92556005 </td><td> (73778666.53%) </td><td> 1 </td><td>  0.00000000 </td><td>         inf </td><td> False </td><td> mu_1 </td></tr><tr><td> x0_5 </td><td>  1.0353e+10 </td><td>  0.00000000 </td><td> (0.00%) </td><td> 10353357599.0 </td><td>        -inf </td><td>         inf </td><td> False </td><td>  </td></tr><tr><td> s_5 </td><td>  10416.0000 </td><td>  0.00000000 </td><td> (0.00%) </td><td> 10416 </td><td>        -inf </td><td>         inf </td><td> False </td><td>  </td></tr><tr><td> a_6 </td><td>  1.0353e+10 </td><td>  0.00000000 </td><td> (0.00%) </td><td> 10353418406.580908 </td><td>        -inf </td><td>         inf </td><td> False </td><td>  </td></tr><tr><td> b_6 </td><td>  19602.0799 </td><td>  0.00000000 </td><td> (0.00%) </td><td> 19602.0799356707 </td><td>        -inf </td><td>         inf </td><td> False </td><td>  </td></tr><tr><td> c_6 </td><td>  1.0353e+10 </td><td>  0.00000000 </td><td> (0.00%) </td><td> 10353418450.563993 </td><td>        -inf </td><td>         inf </td><td> False </td><td>  </td></tr><tr><td> d_6 </td><td>  20836.9255 </td><td>  0.00000000 </td><td> (0.00%) </td><td> 20836.92554533383 </td><td>        -inf </td><td>         inf </td><td> False </td><td>  </td></tr><tr><td> e_6 </td><td>  188.534305 </td><td>  0.00000000 </td><td> (0.00%) </td><td> 188.5343053035079 </td><td>        -inf </td><td>         inf </td><td> False </td><td>  </td></tr><tr><td> f_6 </td><td> -0.00632112 </td><td>  0.00000000 </td><td> (0.00%) </td><td> -0.00632112471207433 </td><td>        -inf </td><td>         inf </td><td> False </td><td>  </td></tr><tr><td> mu_6 </td><td>  2.6099e-06 </td><td>  1.92556005 </td><td> (73778666.53%) </td><td> 1 </td><td>  0.00000000 </td><td>         inf </td><td> False </td><td> mu_1 </td></tr><tr><td> x0_6 </td><td>  1.0353e+10 </td><td>  0.00000000 </td><td> (0.00%) </td><td> 10353357599.0 </td><td>        -inf </td><td>         inf </td><td> False </td><td>  </td></tr><tr><td> s_6 </td><td>  10416.0000 </td><td>  0.00000000 </td><td> (0.00%) </td><td> 10416 </td><td>        -inf </td><td>         inf </td><td> False </td><td>  </td></tr><tr><td> a_7 </td><td>  1.0353e+10 </td><td>  0.00000000 </td><td> (0.00%) </td><td> 10353392808.497028 </td><td>        -inf </td><td>         inf </td><td> False </td><td>  </td></tr><tr><td> b_7 </td><td>  19612.6415 </td><td>  0.00000000 </td><td> (0.00%) </td><td> 19612.641520986566 </td><td>        -inf </td><td>         inf </td><td> False </td><td>  </td></tr><tr><td> c_7 </td><td>  1.0353e+10 </td><td>  0.00000000 </td><td> (0.00%) </td><td> 10353392910.44235 </td><td>        -inf </td><td>         inf </td><td> False </td><td>  </td></tr><tr><td> d_7 </td><td>  20836.5195 </td><td>  0.00000000 </td><td> (0.00%) </td><td> 20836.51949626002 </td><td>        -inf </td><td>         inf </td><td> False </td><td>  </td></tr><tr><td> e_7 </td><td>  188.404537 </td><td>  0.00000000 </td><td> (0.00%) </td><td> 188.40453704062176 </td><td>        -inf </td><td>         inf </td><td> False </td><td>  </td></tr><tr><td> f_7 </td><td> -0.00645679 </td><td>  0.00000000 </td><td> (0.00%) </td><td> -0.006456789320133335 </td><td>        -inf </td><td>         inf </td><td> False </td><td>  </td></tr><tr><td> mu_7 </td><td>  2.6099e-06 </td><td>  1.92556005 </td><td> (73778666.53%) </td><td> 1 </td><td>  0.00000000 </td><td>         inf </td><td> False </td><td> mu_1 </td></tr><tr><td> x0_7 </td><td>  1.0353e+10 </td><td>  0.00000000 </td><td> (0.00%) </td><td> 10353357599.0 </td><td>        -inf </td><td>         inf </td><td> False </td><td>  </td></tr><tr><td> s_7 </td><td>  10416.0000 </td><td>  0.00000000 </td><td> (0.00%) </td><td> 10416 </td><td>        -inf </td><td>         inf </td><td> False </td><td>  </td></tr><tr><td> a_8 </td><td>  1.0353e+10 </td><td>  0.00000000 </td><td> (0.00%) </td><td> 10353364598.630901 </td><td>        -inf </td><td>         inf </td><td> False </td><td>  </td></tr><tr><td> b_8 </td><td>  19524.3152 </td><td>  0.00000000 </td><td> (0.00%) </td><td> 19524.315223918864 </td><td>        -inf </td><td>         inf </td><td> False </td><td>  </td></tr><tr><td> c_8 </td><td>  1.0353e+10 </td><td>  0.00000000 </td><td> (0.00%) </td><td> 10353364640.312428 </td><td>        -inf </td><td>         inf </td><td> False </td><td>  </td></tr><tr><td> d_8 </td><td>  20738.5519 </td><td>  0.00000000 </td><td> (0.00%) </td><td> 20738.55187850735 </td><td>        -inf </td><td>         inf </td><td> False </td><td>  </td></tr><tr><td> e_8 </td><td>  188.438937 </td><td>  0.00000000 </td><td> (0.00%) </td><td> 188.4389366381062 </td><td>        -inf </td><td>         inf </td><td> False </td><td>  </td></tr><tr><td> f_8 </td><td> -0.00617343 </td><td>  0.00000000 </td><td> (0.00%) </td><td> -0.0061734331783467235 </td><td>        -inf </td><td>         inf </td><td> False </td><td>  </td></tr><tr><td> mu_8 </td><td>  2.6099e-06 </td><td>  1.92556005 </td><td> (73778666.53%) </td><td> 1 </td><td>  0.00000000 </td><td>         inf </td><td> False </td><td> mu_1 </td></tr><tr><td> x0_8 </td><td>  1.0353e+10 </td><td>  0.00000000 </td><td> (0.00%) </td><td> 10353357599.0 </td><td>        -inf </td><td>         inf </td><td> False </td><td>  </td></tr><tr><td> s_8 </td><td>  10416.0000 </td><td>  0.00000000 </td><td> (0.00%) </td><td> 10416 </td><td>        -inf </td><td>         inf </td><td> False </td><td>  </td></tr><tr><td> a_9 </td><td>  1.0353e+10 </td><td>  0.00000000 </td><td> (0.00%) </td><td> 10353350654.53122 </td><td>        -inf </td><td>         inf </td><td> False </td><td>  </td></tr><tr><td> b_9 </td><td>  3916.43635 </td><td>  0.00000000 </td><td> (0.00%) </td><td> 3916.4363523631914 </td><td>        -inf </td><td>         inf </td><td> False </td><td>  </td></tr><tr><td> c_9 </td><td>  1.0353e+10 </td><td>  0.00000000 </td><td> (0.00%) </td><td> 10353350633.870092 </td><td>        -inf </td><td>         inf </td><td> False </td><td>  </td></tr><tr><td> d_9 </td><td>  4145.52331 </td><td>  0.00000000 </td><td> (0.00%) </td><td> 4145.523306811155 </td><td>        -inf </td><td>         inf </td><td> False </td><td>  </td></tr><tr><td> e_9 </td><td>  187.714985 </td><td>  0.00000000 </td><td> (0.00%) </td><td> 187.71498536755772 </td><td>        -inf </td><td>         inf </td><td> False </td><td>  </td></tr><tr><td> f_9 </td><td> -0.00732313 </td><td>  0.00000000 </td><td> (0.00%) </td><td> -0.00732313282017483 </td><td>        -inf </td><td>         inf </td><td> False </td><td>  </td></tr><tr><td> mu_9 </td><td>  2.6099e-06 </td><td>  1.92556005 </td><td> (73778666.53%) </td><td> 1 </td><td>  0.00000000 </td><td>         inf </td><td> False </td><td> mu_1 </td></tr><tr><td> x0_9 </td><td>  1.0353e+10 </td><td>  0.00000000 </td><td> (0.00%) </td><td> 10353357599.0 </td><td>        -inf </td><td>         inf </td><td> False </td><td>  </td></tr><tr><td> s_9 </td><td>  10416.0000 </td><td>  0.00000000 </td><td> (0.00%) </td><td> 10416 </td><td>        -inf </td><td>         inf </td><td> False </td><td>  </td></tr><tr><td> a_10 </td><td>  1.0353e+10 </td><td>  0.00000000 </td><td> (0.00%) </td><td> 10353357641.757683 </td><td>        -inf </td><td>         inf </td><td> False </td><td>  </td></tr><tr><td> b_10 </td><td>  3939.40856 </td><td>  0.00000000 </td><td> (0.00%) </td><td> 3939.408564925232 </td><td>        -inf </td><td>         inf </td><td> False </td><td>  </td></tr><tr><td> c_10 </td><td>  1.0353e+10 </td><td>  0.00000000 </td><td> (0.00%) </td><td> 10353357620.704487 </td><td>        -inf </td><td>         inf </td><td> False </td><td>  </td></tr><tr><td> d_10 </td><td>  4177.83937 </td><td>  0.00000000 </td><td> (0.00%) </td><td> 4177.839372249873 </td><td>        -inf </td><td>         inf </td><td> False </td><td>  </td></tr><tr><td> e_10 </td><td>  187.985287 </td><td>  0.00000000 </td><td> (0.00%) </td><td> 187.98528724159218 </td><td>        -inf </td><td>         inf </td><td> False </td><td>  </td></tr><tr><td> f_10 </td><td> -0.00787597 </td><td>  0.00000000 </td><td> (0.00%) </td><td> -0.007875968829556098 </td><td>        -inf </td><td>         inf </td><td> False </td><td>  </td></tr><tr><td> mu_10 </td><td>  2.6099e-06 </td><td>  1.92556005 </td><td> (73778666.53%) </td><td> 1 </td><td>  0.00000000 </td><td>         inf </td><td> False </td><td> mu_1 </td></tr><tr><td> x0_10 </td><td>  1.0353e+10 </td><td>  0.00000000 </td><td> (0.00%) </td><td> 10353357599.0 </td><td>        -inf </td><td>         inf </td><td> False </td><td>  </td></tr><tr><td> s_10 </td><td>  10416.0000 </td><td>  0.00000000 </td><td> (0.00%) </td><td> 10416 </td><td>        -inf </td><td>         inf </td><td> False </td><td>  </td></tr><tr><td> a_11 </td><td>  1.0353e+10 </td><td>  0.00000000 </td><td> (0.00%) </td><td> 10353363551.854889 </td><td>        -inf </td><td>         inf </td><td> False </td><td>  </td></tr><tr><td> b_11 </td><td>  3885.63100 </td><td>  0.00000000 </td><td> (0.00%) </td><td> 3885.631003494633 </td><td>        -inf </td><td>         inf </td><td> False </td><td>  </td></tr><tr><td> c_11 </td><td>  1.0353e+10 </td><td>  0.00000000 </td><td> (0.00%) </td><td> 10353363543.582794 </td><td>        -inf </td><td>         inf </td><td> False </td><td>  </td></tr><tr><td> d_11 </td><td>  4110.25202 </td><td>  0.00000000 </td><td> (0.00%) </td><td> 4110.252015626729 </td><td>        -inf </td><td>         inf </td><td> False </td><td>  </td></tr><tr><td> e_11 </td><td>  187.594241 </td><td>  0.00000000 </td><td> (0.00%) </td><td> 187.59424063364196 </td><td>        -inf </td><td>         inf </td><td> False </td><td>  </td></tr><tr><td> f_11 </td><td> -0.00797995 </td><td>  0.00000000 </td><td> (0.00%) </td><td> -0.007979950890616094 </td><td>        -inf </td><td>         inf </td><td> False </td><td>  </td></tr><tr><td> mu_11 </td><td>  2.6099e-06 </td><td>  1.92556005 </td><td> (73778666.53%) </td><td> 1 </td><td>  0.00000000 </td><td>         inf </td><td> False </td><td> mu_1 </td></tr><tr><td> x0_11 </td><td>  1.0353e+10 </td><td>  0.00000000 </td><td> (0.00%) </td><td> 10353357599.0 </td><td>        -inf </td><td>         inf </td><td> False </td><td>  </td></tr><tr><td> s_11 </td><td>  10416.0000 </td><td>  0.00000000 </td><td> (0.00%) </td><td> 10416 </td><td>        -inf </td><td>         inf </td><td> False </td><td>  </td></tr><tr><td> a_12 </td><td>  1.0353e+10 </td><td>  0.00000000 </td><td> (0.00%) </td><td> 10353383369.439219 </td><td>        -inf </td><td>         inf </td><td> False </td><td>  </td></tr><tr><td> b_12 </td><td>  3952.28721 </td><td>  0.00000000 </td><td> (0.00%) </td><td> 3952.2872051278773 </td><td>        -inf </td><td>         inf </td><td> False </td><td>  </td></tr><tr><td> c_12 </td><td>  1.0353e+10 </td><td>  0.00000000 </td><td> (0.00%) </td><td> 10353383369.83274 </td><td>        -inf </td><td>         inf </td><td> False </td><td>  </td></tr><tr><td> d_12 </td><td>  4170.14855 </td><td>  0.00000000 </td><td> (0.00%) </td><td> 4170.148552056618 </td><td>        -inf </td><td>         inf </td><td> False </td><td>  </td></tr><tr><td> e_12 </td><td>  187.002946 </td><td>  0.00000000 </td><td> (0.00%) </td><td> 187.00294603257365 </td><td>        -inf </td><td>         inf </td><td> False </td><td>  </td></tr><tr><td> f_12 </td><td> -0.00692945 </td><td>  0.00000000 </td><td> (0.00%) </td><td> -0.00692945340208727 </td><td>        -inf </td><td>         inf </td><td> False </td><td>  </td></tr><tr><td> mu_12 </td><td>  2.6099e-06 </td><td>  1.92556005 </td><td> (73778666.53%) </td><td> 1 </td><td>  0.00000000 </td><td>         inf </td><td> False </td><td> mu_1 </td></tr><tr><td> x0_12 </td><td>  1.0353e+10 </td><td>  0.00000000 </td><td> (0.00%) </td><td> 10353357599.0 </td><td>        -inf </td><td>         inf </td><td> False </td><td>  </td></tr><tr><td> s_12 </td><td>  10416.0000 </td><td>  0.00000000 </td><td> (0.00%) </td><td> 10416 </td><td>        -inf </td><td>         inf </td><td> False </td><td>  </td></tr><tr><td> a_13 </td><td>  1.0353e+10 </td><td>  0.00000000 </td><td> (0.00%) </td><td> 10353393509.565315 </td><td>        -inf </td><td>         inf </td><td> False </td><td>  </td></tr><tr><td> b_13 </td><td>  3933.75218 </td><td>  0.00000000 </td><td> (0.00%) </td><td> 3933.7521793149485 </td><td>        -inf </td><td>         inf </td><td> False </td><td>  </td></tr><tr><td> c_13 </td><td>  1.0353e+10 </td><td>  0.00000000 </td><td> (0.00%) </td><td> 10353393504.676292 </td><td>        -inf </td><td>         inf </td><td> False </td><td>  </td></tr><tr><td> d_13 </td><td>  4162.78641 </td><td>  0.00000000 </td><td> (0.00%) </td><td> 4162.786410454396 </td><td>        -inf </td><td>         inf </td><td> False </td><td>  </td></tr><tr><td> e_13 </td><td>  187.855718 </td><td>  0.00000000 </td><td> (0.00%) </td><td> 187.8557184086591 </td><td>        -inf </td><td>         inf </td><td> False </td><td>  </td></tr><tr><td> f_13 </td><td> -0.00747802 </td><td>  0.00000000 </td><td> (0.00%) </td><td> -0.007478018964901341 </td><td>        -inf </td><td>         inf </td><td> False </td><td>  </td></tr><tr><td> mu_13 </td><td>  1.8917e-06 </td><td>  4.93427188 </td><td> (260843845.76%) </td><td> 1 </td><td>  0.00000000 </td><td>         inf </td><td> True </td><td>  </td></tr><tr><td> x0_13 </td><td>  1.0353e+10 </td><td>  0.00000000 </td><td> (0.00%) </td><td> 10353357599.0 </td><td>        -inf </td><td>         inf </td><td> False </td><td>  </td></tr><tr><td> s_13 </td><td>  10416.0000 </td><td>  0.00000000 </td><td> (0.00%) </td><td> 10416 </td><td>        -inf </td><td>         inf </td><td> False </td><td>  </td></tr></table>"
      ],
      "text/plain": [
       "Parameters([('a_1', <Parameter 'a_1', value=10353522219.620491 (fixed), bounds=[-inf:inf]>), ('b_1', <Parameter 'b_1', value=20852.957817490726 (fixed), bounds=[-inf:inf]>), ('c_1', <Parameter 'c_1', value=10353522435.553326 (fixed), bounds=[-inf:inf]>), ('d_1', <Parameter 'd_1', value=21974.32490149998 (fixed), bounds=[-inf:inf]>), ('e_1', <Parameter 'e_1', value=186.9973868189828 (fixed), bounds=[-inf:inf]>), ('f_1', <Parameter 'f_1', value=-0.00589732628477138 (fixed), bounds=[-inf:inf]>), ('mu_1', <Parameter 'mu_1', value=2.6099144114777317e-06 +/- 1.93, bounds=[0:inf]>), ('x0_1', <Parameter 'x0_1', value=10353357599.0 (fixed), bounds=[-inf:inf]>), ('s_1', <Parameter 's_1', value=10416 (fixed), bounds=[-inf:inf]>), ('a_2', <Parameter 'a_2', value=10353494009.054926 (fixed), bounds=[-inf:inf]>), ('b_2', <Parameter 'b_2', value=20739.902858312696 (fixed), bounds=[-inf:inf]>), ('c_2', <Parameter 'c_2', value=10353494174.57104 (fixed), bounds=[-inf:inf]>), ('d_2', <Parameter 'd_2', value=21931.934710792502 (fixed), bounds=[-inf:inf]>), ('e_2', <Parameter 'e_2', value=187.63093082793742 (fixed), bounds=[-inf:inf]>), ('f_2', <Parameter 'f_2', value=-0.0062159187551241064 (fixed), bounds=[-inf:inf]>), ('mu_2', <Parameter 'mu_2', value=2.6099144114777317e-06 +/- 1.93, bounds=[0:inf], expr='mu_1'>), ('x0_2', <Parameter 'x0_2', value=10353357599.0 (fixed), bounds=[-inf:inf]>), ('s_2', <Parameter 's_2', value=10416 (fixed), bounds=[-inf:inf]>), ('a_3', <Parameter 'a_3', value=10353468834.022043 (fixed), bounds=[-inf:inf]>), ('b_3', <Parameter 'b_3', value=20303.7907299555 (fixed), bounds=[-inf:inf]>), ('c_3', <Parameter 'c_3', value=10353469027.134993 (fixed), bounds=[-inf:inf]>), ('d_3', <Parameter 'd_3', value=21479.34874744297 (fixed), bounds=[-inf:inf]>), ('e_3', <Parameter 'e_3', value=187.80529884313725 (fixed), bounds=[-inf:inf]>), ('f_3', <Parameter 'f_3', value=-0.006121735627566208 (fixed), bounds=[-inf:inf]>), ('mu_3', <Parameter 'mu_3', value=2.6099144114777317e-06 +/- 1.93, bounds=[0:inf], expr='mu_1'>), ('x0_3', <Parameter 'x0_3', value=10353357599.0 (fixed), bounds=[-inf:inf]>), ('s_3', <Parameter 's_3', value=10416 (fixed), bounds=[-inf:inf]>), ('a_4', <Parameter 'a_4', value=10353468529.830406 (fixed), bounds=[-inf:inf]>), ('b_4', <Parameter 'b_4', value=20201.151211832264 (fixed), bounds=[-inf:inf]>), ('c_4', <Parameter 'c_4', value=10353468640.75483 (fixed), bounds=[-inf:inf]>), ('d_4', <Parameter 'd_4', value=21402.407428181454 (fixed), bounds=[-inf:inf]>), ('e_4', <Parameter 'e_4', value=187.95581858309106 (fixed), bounds=[-inf:inf]>), ('f_4', <Parameter 'f_4', value=-0.006474411007767744 (fixed), bounds=[-inf:inf]>), ('mu_4', <Parameter 'mu_4', value=2.6099144114777317e-06 +/- 1.93, bounds=[0:inf], expr='mu_1'>), ('x0_4', <Parameter 'x0_4', value=10353357599.0 (fixed), bounds=[-inf:inf]>), ('s_4', <Parameter 's_4', value=10416 (fixed), bounds=[-inf:inf]>), ('a_5', <Parameter 'a_5', value=10353439447.539661 (fixed), bounds=[-inf:inf]>), ('b_5', <Parameter 'b_5', value=19620.945031193758 (fixed), bounds=[-inf:inf]>), ('c_5', <Parameter 'c_5', value=10353439551.428143 (fixed), bounds=[-inf:inf]>), ('d_5', <Parameter 'd_5', value=20709.518937189427 (fixed), bounds=[-inf:inf]>), ('e_5', <Parameter 'e_5', value=187.21388616673337 (fixed), bounds=[-inf:inf]>), ('f_5', <Parameter 'f_5', value=-0.006529007082586741 (fixed), bounds=[-inf:inf]>), ('mu_5', <Parameter 'mu_5', value=2.6099144114777317e-06 +/- 1.93, bounds=[0:inf], expr='mu_1'>), ('x0_5', <Parameter 'x0_5', value=10353357599.0 (fixed), bounds=[-inf:inf]>), ('s_5', <Parameter 's_5', value=10416 (fixed), bounds=[-inf:inf]>), ('a_6', <Parameter 'a_6', value=10353418406.580908 (fixed), bounds=[-inf:inf]>), ('b_6', <Parameter 'b_6', value=19602.0799356707 (fixed), bounds=[-inf:inf]>), ('c_6', <Parameter 'c_6', value=10353418450.563993 (fixed), bounds=[-inf:inf]>), ('d_6', <Parameter 'd_6', value=20836.92554533383 (fixed), bounds=[-inf:inf]>), ('e_6', <Parameter 'e_6', value=188.5343053035079 (fixed), bounds=[-inf:inf]>), ('f_6', <Parameter 'f_6', value=-0.00632112471207433 (fixed), bounds=[-inf:inf]>), ('mu_6', <Parameter 'mu_6', value=2.6099144114777317e-06 +/- 1.93, bounds=[0:inf], expr='mu_1'>), ('x0_6', <Parameter 'x0_6', value=10353357599.0 (fixed), bounds=[-inf:inf]>), ('s_6', <Parameter 's_6', value=10416 (fixed), bounds=[-inf:inf]>), ('a_7', <Parameter 'a_7', value=10353392808.497028 (fixed), bounds=[-inf:inf]>), ('b_7', <Parameter 'b_7', value=19612.641520986566 (fixed), bounds=[-inf:inf]>), ('c_7', <Parameter 'c_7', value=10353392910.44235 (fixed), bounds=[-inf:inf]>), ('d_7', <Parameter 'd_7', value=20836.51949626002 (fixed), bounds=[-inf:inf]>), ('e_7', <Parameter 'e_7', value=188.40453704062176 (fixed), bounds=[-inf:inf]>), ('f_7', <Parameter 'f_7', value=-0.006456789320133335 (fixed), bounds=[-inf:inf]>), ('mu_7', <Parameter 'mu_7', value=2.6099144114777317e-06 +/- 1.93, bounds=[0:inf], expr='mu_1'>), ('x0_7', <Parameter 'x0_7', value=10353357599.0 (fixed), bounds=[-inf:inf]>), ('s_7', <Parameter 's_7', value=10416 (fixed), bounds=[-inf:inf]>), ('a_8', <Parameter 'a_8', value=10353364598.630901 (fixed), bounds=[-inf:inf]>), ('b_8', <Parameter 'b_8', value=19524.315223918864 (fixed), bounds=[-inf:inf]>), ('c_8', <Parameter 'c_8', value=10353364640.312428 (fixed), bounds=[-inf:inf]>), ('d_8', <Parameter 'd_8', value=20738.55187850735 (fixed), bounds=[-inf:inf]>), ('e_8', <Parameter 'e_8', value=188.4389366381062 (fixed), bounds=[-inf:inf]>), ('f_8', <Parameter 'f_8', value=-0.0061734331783467235 (fixed), bounds=[-inf:inf]>), ('mu_8', <Parameter 'mu_8', value=2.6099144114777317e-06 +/- 1.93, bounds=[0:inf], expr='mu_1'>), ('x0_8', <Parameter 'x0_8', value=10353357599.0 (fixed), bounds=[-inf:inf]>), ('s_8', <Parameter 's_8', value=10416 (fixed), bounds=[-inf:inf]>), ('a_9', <Parameter 'a_9', value=10353350654.53122 (fixed), bounds=[-inf:inf]>), ('b_9', <Parameter 'b_9', value=3916.4363523631914 (fixed), bounds=[-inf:inf]>), ('c_9', <Parameter 'c_9', value=10353350633.870092 (fixed), bounds=[-inf:inf]>), ('d_9', <Parameter 'd_9', value=4145.523306811155 (fixed), bounds=[-inf:inf]>), ('e_9', <Parameter 'e_9', value=187.71498536755772 (fixed), bounds=[-inf:inf]>), ('f_9', <Parameter 'f_9', value=-0.00732313282017483 (fixed), bounds=[-inf:inf]>), ('mu_9', <Parameter 'mu_9', value=2.6099144114777317e-06 +/- 1.93, bounds=[0:inf], expr='mu_1'>), ('x0_9', <Parameter 'x0_9', value=10353357599.0 (fixed), bounds=[-inf:inf]>), ('s_9', <Parameter 's_9', value=10416 (fixed), bounds=[-inf:inf]>), ('a_10', <Parameter 'a_10', value=10353357641.757683 (fixed), bounds=[-inf:inf]>), ('b_10', <Parameter 'b_10', value=3939.408564925232 (fixed), bounds=[-inf:inf]>), ('c_10', <Parameter 'c_10', value=10353357620.704487 (fixed), bounds=[-inf:inf]>), ('d_10', <Parameter 'd_10', value=4177.839372249873 (fixed), bounds=[-inf:inf]>), ('e_10', <Parameter 'e_10', value=187.98528724159218 (fixed), bounds=[-inf:inf]>), ('f_10', <Parameter 'f_10', value=-0.007875968829556098 (fixed), bounds=[-inf:inf]>), ('mu_10', <Parameter 'mu_10', value=2.6099144114777317e-06 +/- 1.93, bounds=[0:inf], expr='mu_1'>), ('x0_10', <Parameter 'x0_10', value=10353357599.0 (fixed), bounds=[-inf:inf]>), ('s_10', <Parameter 's_10', value=10416 (fixed), bounds=[-inf:inf]>), ('a_11', <Parameter 'a_11', value=10353363551.854889 (fixed), bounds=[-inf:inf]>), ('b_11', <Parameter 'b_11', value=3885.631003494633 (fixed), bounds=[-inf:inf]>), ('c_11', <Parameter 'c_11', value=10353363543.582794 (fixed), bounds=[-inf:inf]>), ('d_11', <Parameter 'd_11', value=4110.252015626729 (fixed), bounds=[-inf:inf]>), ('e_11', <Parameter 'e_11', value=187.59424063364196 (fixed), bounds=[-inf:inf]>), ('f_11', <Parameter 'f_11', value=-0.007979950890616094 (fixed), bounds=[-inf:inf]>), ('mu_11', <Parameter 'mu_11', value=2.6099144114777317e-06 +/- 1.93, bounds=[0:inf], expr='mu_1'>), ('x0_11', <Parameter 'x0_11', value=10353357599.0 (fixed), bounds=[-inf:inf]>), ('s_11', <Parameter 's_11', value=10416 (fixed), bounds=[-inf:inf]>), ('a_12', <Parameter 'a_12', value=10353383369.439219 (fixed), bounds=[-inf:inf]>), ('b_12', <Parameter 'b_12', value=3952.2872051278773 (fixed), bounds=[-inf:inf]>), ('c_12', <Parameter 'c_12', value=10353383369.83274 (fixed), bounds=[-inf:inf]>), ('d_12', <Parameter 'd_12', value=4170.148552056618 (fixed), bounds=[-inf:inf]>), ('e_12', <Parameter 'e_12', value=187.00294603257365 (fixed), bounds=[-inf:inf]>), ('f_12', <Parameter 'f_12', value=-0.00692945340208727 (fixed), bounds=[-inf:inf]>), ('mu_12', <Parameter 'mu_12', value=2.6099144114777317e-06 +/- 1.93, bounds=[0:inf], expr='mu_1'>), ('x0_12', <Parameter 'x0_12', value=10353357599.0 (fixed), bounds=[-inf:inf]>), ('s_12', <Parameter 's_12', value=10416 (fixed), bounds=[-inf:inf]>), ('a_13', <Parameter 'a_13', value=10353393509.565315 (fixed), bounds=[-inf:inf]>), ('b_13', <Parameter 'b_13', value=3933.7521793149485 (fixed), bounds=[-inf:inf]>), ('c_13', <Parameter 'c_13', value=10353393504.676292 (fixed), bounds=[-inf:inf]>), ('d_13', <Parameter 'd_13', value=4162.786410454396 (fixed), bounds=[-inf:inf]>), ('e_13', <Parameter 'e_13', value=187.8557184086591 (fixed), bounds=[-inf:inf]>), ('f_13', <Parameter 'f_13', value=-0.007478018964901341 (fixed), bounds=[-inf:inf]>), ('mu_13', <Parameter 'mu_13', value=1.8916573889526944e-06 +/- 4.93, bounds=[0:inf]>), ('x0_13', <Parameter 'x0_13', value=10353357599.0 (fixed), bounds=[-inf:inf]>), ('s_13', <Parameter 's_13', value=10416 (fixed), bounds=[-inf:inf]>)])"
      ]
     },
     "execution_count": 66,
     "metadata": {},
     "output_type": "execute_result"
    }
   ],
   "source": [
    "result.params"
   ]
  }
 ],
 "metadata": {
  "kernelspec": {
   "display_name": "Python 3 (ipykernel)",
   "language": "python",
   "name": "python3"
  },
  "language_info": {
   "codemirror_mode": {
    "name": "ipython",
    "version": 3
   },
   "file_extension": ".py",
   "mimetype": "text/x-python",
   "name": "python",
   "nbconvert_exporter": "python",
   "pygments_lexer": "ipython3",
   "version": "3.9.12"
  }
 },
 "nbformat": 4,
 "nbformat_minor": 5
}
